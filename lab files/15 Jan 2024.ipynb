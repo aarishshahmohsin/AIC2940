{
 "cells": [
  {
   "cell_type": "code",
   "execution_count": 38,
   "id": "8e8af2f2",
   "metadata": {},
   "outputs": [
    {
     "name": "stdout",
     "output_type": "stream",
     "text": [
      "third \n"
     ]
    }
   ],
   "source": [
    "a, b, c = 1, 2, 3\n",
    "if a > b and c > a:\n",
    "    print(\"First condition\")\n",
    "elif a > b and a > c: \n",
    "    print(\"second condition\")\n",
    "else:\n",
    "    print(\"third \")"
   ]
  },
  {
   "cell_type": "code",
   "execution_count": 39,
   "id": "c0c4484f",
   "metadata": {},
   "outputs": [
    {
     "name": "stdout",
     "output_type": "stream",
     "text": [
      "12\n",
      "greater than 10\n",
      "greater than 10 but less than 20\n"
     ]
    }
   ],
   "source": [
    "x = int(input())\n",
    "if x > 10:\n",
    "    print(\"greater than 10\")\n",
    "    if (x > 20):\n",
    "        print(\"greater than 20\")\n",
    "    else:\n",
    "        print(\"greater than 10 but less than 20\")"
   ]
  },
  {
   "cell_type": "code",
   "execution_count": 44,
   "id": "7e1f29fa",
   "metadata": {},
   "outputs": [
    {
     "name": "stdout",
     "output_type": "stream",
     "text": [
      "0\n",
      "1\n",
      "2\n",
      "3\n"
     ]
    }
   ],
   "source": [
    "i = 0\n",
    "while i < 6:\n",
    "    print(i)\n",
    "    if (i == 3):\n",
    "        break\n",
    "    i += 1"
   ]
  },
  {
   "cell_type": "code",
   "execution_count": 48,
   "id": "987ebffe",
   "metadata": {},
   "outputs": [
    {
     "name": "stdout",
     "output_type": "stream",
     "text": [
      "4\n",
      "7\n"
     ]
    }
   ],
   "source": [
    "for i in range(4, 10, 3):\n",
    "    print(i)"
   ]
  },
  {
   "cell_type": "code",
   "execution_count": 51,
   "id": "958ad294",
   "metadata": {},
   "outputs": [
    {
     "name": "stdout",
     "output_type": "stream",
     "text": [
      "['apple', 'banana', 'mango']\n",
      "apple\n",
      "banana\n",
      "mango\n"
     ]
    }
   ],
   "source": [
    "l = [\"apple\", \"banana\", \"mango\"]\n",
    "print(l)\n",
    "for i in l:\n",
    "    print(i)"
   ]
  },
  {
   "cell_type": "code",
   "execution_count": 52,
   "id": "cbd5d43c",
   "metadata": {},
   "outputs": [
    {
     "name": "stdout",
     "output_type": "stream",
     "text": [
      "['apple', 'banana', 'mango', 'another list', 'another list item 2']\n"
     ]
    }
   ],
   "source": [
    "l2 = [\"another list\", \"another list item 2\"]\n",
    "l += l2\n",
    "print(l)"
   ]
  },
  {
   "cell_type": "code",
   "execution_count": 62,
   "id": "e21992ae",
   "metadata": {},
   "outputs": [
    {
     "name": "stdout",
     "output_type": "stream",
     "text": [
      "enter the no of elements: 4\n",
      "enter next element: 1\n",
      "enter next element: 2\n",
      "enter next element: 3\n",
      "enter next element: 4\n",
      "the largest element in the array is 4\n",
      "the largest element in the array is 1\n"
     ]
    }
   ],
   "source": [
    "a = []\n",
    "i = int(input(\"enter the no of elements: \"))\n",
    "while i != 0:\n",
    "    x = int(input(\"enter next element: \"))\n",
    "    a.append(x)\n",
    "    i-=1\n",
    "    \n",
    "ma = a[0]\n",
    "mi = a[0]\n",
    "for i in a:\n",
    "    if i > m:\n",
    "        ma = i\n",
    "    else: \n",
    "        mi = i\n",
    "    \n",
    "print(\"the largest element in the array is {}\".format(ma))\n",
    "print(\"the largest element in the array is {}\".format(mi))\n"
   ]
  },
  {
   "cell_type": "code",
   "execution_count": 63,
   "id": "d0c547f8",
   "metadata": {},
   "outputs": [
    {
     "data": {
      "text/plain": [
       "1"
      ]
     },
     "execution_count": 63,
     "metadata": {},
     "output_type": "execute_result"
    }
   ],
   "source": [
    "a = [1]\n",
    "len(a)"
   ]
  },
  {
   "cell_type": "code",
   "execution_count": 64,
   "id": "bceb7586",
   "metadata": {},
   "outputs": [
    {
     "name": "stdout",
     "output_type": "stream",
     "text": [
      "(1, 2, 3)\n"
     ]
    }
   ],
   "source": [
    "a = (1, 2, 3)\n",
    "print(a)"
   ]
  },
  {
   "cell_type": "code",
   "execution_count": 69,
   "id": "216ca739",
   "metadata": {},
   "outputs": [
    {
     "name": "stdout",
     "output_type": "stream",
     "text": [
      "{1, 2, 3}\n"
     ]
    }
   ],
   "source": [
    "a = {1, 2, 3, 3}\n",
    "print(a)"
   ]
  },
  {
   "cell_type": "code",
   "execution_count": 1,
   "id": "6c0f201a",
   "metadata": {
    "scrolled": true
   },
   "outputs": [
    {
     "name": "stdout",
     "output_type": "stream",
     "text": [
      "unswapped step: 4 4\n",
      "unswapped step: 4 3\n",
      "unswapped step: 4 2\n",
      "unswapped step: 4 1\n",
      "[4, 3, 2, 1]\n",
      "swapped step: 3 4\n",
      "unswapped step: 4 4\n",
      "unswapped step: 4 2\n",
      "unswapped step: 4 1\n",
      "[3, 4, 2, 1]\n",
      "swapped step: 2 3\n",
      "swapped step: 3 4\n",
      "unswapped step: 4 4\n",
      "unswapped step: 4 1\n",
      "[2, 3, 4, 1]\n",
      "swapped step: 1 2\n",
      "swapped step: 2 3\n",
      "swapped step: 3 4\n",
      "unswapped step: 4 4\n",
      "[1, 2, 3, 4]\n",
      "[1, 2, 3, 4]\n"
     ]
    }
   ],
   "source": [
    "a = []\n",
    "i = int(input(\"enter the no of elements: \"))\n",
    "while i != 0:\n",
    "    x = int(input(\"enter next element: \"))\n",
    "    a.append(x)\n",
    "    i-=1\n",
    "\n",
    "for i in range(len(a)):\n",
    "    for j in range(len(a)):\n",
    "        if a[i] < a[j]:\n",
    "            print(\"swapped step: \" + str(a[i]) + \" \" + str(a[j]))\n",
    "            a[i], a[j] = a[j], a[i]\n",
    "        else:\n",
    "            print(\"unswapped step: \" + str(a[i]) + \" \" + str(a[j]))\n",
    "    print(a)\n",
    "            \n",
    "print(a)\n",
    "    "
   ]
  },
  {
   "cell_type": "code",
   "execution_count": null,
   "id": "33aeb3d2",
   "metadata": {},
   "outputs": [],
   "source": []
  },
  {
   "cell_type": "code",
   "execution_count": null,
   "id": "ca8d6c78",
   "metadata": {},
   "outputs": [],
   "source": []
  }
 ],
 "metadata": {
  "kernelspec": {
   "display_name": "Python 3 (ipykernel)",
   "language": "python",
   "name": "python3"
  },
  "language_info": {
   "codemirror_mode": {
    "name": "ipython",
    "version": 3
   },
   "file_extension": ".py",
   "mimetype": "text/x-python",
   "name": "python",
   "nbconvert_exporter": "python",
   "pygments_lexer": "ipython3",
   "version": "3.9.12"
  }
 },
 "nbformat": 4,
 "nbformat_minor": 5
}
